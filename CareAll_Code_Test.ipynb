{
 "cells": [
  {
   "cell_type": "markdown",
   "metadata": {},
   "source": [
    "# CareAll Implemetation"
   ]
  },
  {
   "cell_type": "code",
   "execution_count": 958,
   "metadata": {},
   "outputs": [],
   "source": [
    "#from prettytable import PrettyTable\n",
    "class Person:\n",
    "    seeker=[]\n",
    "    taker={}\n",
    "    accept={} #Keeps track of dict{caretaker:[careseeker]} \n",
    "    association={} #Keeps track of dict{careseeker:caretaker}\n",
    "    salarydict={} #Keeps track of dict{caretaker:[associatedcareseeker.salary]}\n",
    "    relationdict={}\n",
    "    assodict={}\n",
    "    MAX=4\n",
    "    \n",
    "    def __init__(self,name=None,uname=None,password=None,utype=None):\n",
    "        self.name=name\n",
    "        self.uname=uname\n",
    "        self.password=password\n",
    "        self.utype=utype\n",
    "        \n",
    "    def dis(self):\n",
    "        print(self.name)\n",
    "        print(self.utype)\n",
    "        print(self.uname)\n",
    "        print(self.password)\n",
    "        \n",
    "    def review(self,about,rating,review):\n",
    "        self.by=self.name\n",
    "        self.about=about.name\n",
    "        self.rating = rating\n",
    "        self.review = review\n",
    "        #print(\"Give Rating and Review about \",self.about)\n",
    "        #print(\"Rating:\")\n",
    "        #print(\" >10 - Very Good\")\n",
    "        #print(\" >0 - Very Bad\")\n",
    "        #try:\n",
    "        #    self.rating=int(input(\"Rating: \"))\n",
    "        #    if self.rating>0 and self.rating<10:\n",
    "        #        pass\n",
    "        #    else:\n",
    "        #        print(\"Invalid Rating\")\n",
    "        #except:\n",
    "        #    print(\"Expecting Integer Values\")\n",
    "        #self.review = input(\"Review: \")\n",
    "        #menu=PrettyTable()\n",
    "        #menu.field_names=['ReviewedBy','ReviewedAbout','Rating','Review']\n",
    "        #menu.add_row([self.by,self.about,self.rating,self.review])\n",
    "        \n",
    "        print('ReviewedBy: {}'.format(self.by))\n",
    "        print('ReviewedAbout:',self.about)\n",
    "        print('Rating:',self.rating)\n",
    "        print('Review: {}\\n'.format(self.review))\n",
    "        \n",
    "    def report():\n",
    "        print(\"Showing who is taking care of older couple:\")\n",
    "        print(\"-\"*50)\n",
    "        for k,v in Person.assodict.items():\n",
    "            print(' >{} is taking care of {} : ({},{})'.format(v,k,v,k))\n",
    "        \n",
    "        print(\"\\nShowing who all a young chap is currently taking care:\")\n",
    "        print(\"-\"*50)\n",
    "        for k,v in Person.relationdict.items():\n",
    "            print(' >{} is currently taking care of {}'.format(k,v))        \n",
    "        \n",
    "class careseeker(Person):   \n",
    "    \n",
    "    def __init__(self,name=None,uname=None,password=None):\n",
    "        self.utype=1\n",
    "        Person.__init__(self,name,uname,password,self.utype)\n",
    "        self.jobactive=False\n",
    "    \n",
    "    def jobcreate(self,payment,desc=None,duration=1):\n",
    "        if not self.jobactive:\n",
    "            self.desc=desc\n",
    "            self.payment=payment\n",
    "            self.duration=duration\n",
    "            self.jobactive=True\n",
    "            print(\"Job Created by {} is ACTIVE\".format(self.name))\n",
    "            Person.seeker.append(self)\n",
    "        else:\n",
    "            print(\"{} Cant Create New job since a job is Currently Active!\".format(self.name))\n",
    "    \n",
    "    def viewapplication(self):\n",
    "        print(\"Applicant\\'s for {}\\'s job are:\".format(self.name))\n",
    "        optioncounter = 0\n",
    "        for k,v in Person.taker.items():\n",
    "            if k is self:\n",
    "                for i,x in enumerate(v): #for printing list inside dict\n",
    "                    print(i+1,x.name)\n",
    "    \n",
    "    def jobaccept(self,option):\n",
    "        if Person.accept.get(Person.taker[self][option-1]) == None:\n",
    "            Person.accept[Person.taker[self][option-1]]=[]\n",
    "            Person.accept[Person.taker[self][option-1]].append(self)\n",
    "            Person.relationdict[Person.taker[self][option-1].name]=[]\n",
    "            Person.relationdict[Person.taker[self][option-1].name].append(self.name)            \n",
    "            \n",
    "            if Person.association.get(self) is None:\n",
    "                Person.association[self]=Person.taker[self][option-1]\n",
    "                Person.assodict[self.name]=Person.taker[self][option-1].name\n",
    "                print(\"{} Accepted {}\".format(self.name,Person.association[self].name))\n",
    "                \n",
    "                if Person.salarydict.get(Person.taker[self][option-1]) == None:\n",
    "                    Person.salarydict[Person.taker[self][option-1]]=[]\n",
    "                    Person.salarydict[Person.taker[self][option-1]].append(self.payment)\n",
    "                else:\n",
    "                    Person.salarydict[Person.taker[self][option-1]].append(self.payment)\n",
    "            else:\n",
    "                print(\"You Cannot Accept New Applicant. You are on a contract with {}\".format(Person.association[self].name))\n",
    "                del Person.accept[Person.taker[self][option-1]]\n",
    "                del Person.relationdict[Person.taker[self][option-1].name]\n",
    "        \n",
    "        else:\n",
    "            \n",
    "            if(len(Person.accept[Person.taker[self][option-1]])>=Person.MAX):                \n",
    "                print('{}\\'s Maximum Limit had Reached'.format(Person.taker[self][option-1].name))\n",
    "            else:\n",
    "                Person.accept[Person.taker[self][option-1]].append(self)\n",
    "                Person.relationdict[Person.taker[self][option-1].name].append(self.name)\n",
    "                \n",
    "                if Person.association.get(self) is None:\n",
    "                    Person.association[self]=Person.taker[self][option-1]\n",
    "                    \n",
    "                    Person.assodict[self.name]=Person.taker[self][option-1].name\n",
    "                    print(\"{} Accepted {}\".format(self.name,Person.association[self].name))\n",
    "                    \n",
    "                    if Person.salarydict.get(Person.taker[self][option-1]) == None:\n",
    "                        Person.salarydict[Person.taker[self][option-1]]=[]\n",
    "                        Person.salarydict[Person.taker[self][option-1]].append(self.payment)\n",
    "                    else:\n",
    "                        Person.salarydict[Person.taker[self][option-1]].append(self.payment)\n",
    "                else:\n",
    "                    print(\"You Cannot Accept New Applicant. You are on a contract with {}\".format(Person.association[self].name))\n",
    "        \n",
    "        \n",
    "    def jobclose(self):\n",
    "        self.jobactive=False\n",
    "\n",
    "class caretaker(Person):\n",
    "    \n",
    "    def __init__(self,name=None,uname=None,password=None):\n",
    "        self.utype=2\n",
    "        self.applied=[]\n",
    "        Person.__init__(self,name,uname,password,self.utype)\n",
    "            \n",
    "    def jobview(self):\n",
    "        print(\"JOB list for {}\".format(self.name))\n",
    "        for i,x in enumerate(Person.seeker):\n",
    "            self.joboption=i+1\n",
    "            print(self.joboption,x.name,x.payment)\n",
    "    \n",
    "    def apply(self,option):\n",
    "        if Person.taker.get(Person.seeker[option-1]) == None:\n",
    "            Person.taker[Person.seeker[option-1]]=[]\n",
    "            Person.taker[Person.seeker[option-1]].append(self)\n",
    "        else:\n",
    "            Person.taker[Person.seeker[option-1]].append(self)\n",
    "        print(\"{} Applied for {}\".format(self.name,Person.seeker[option-1].name))\n",
    "    \n",
    "    def salary(self):\n",
    "        sum=0\n",
    "        for i in Person.salarydict[self]:\n",
    "            sum=sum+i\n",
    "        print(sum)\n"
   ]
  },
  {
   "cell_type": "markdown",
   "metadata": {},
   "source": [
    "# Initializing careseeker objects"
   ]
  },
  {
   "cell_type": "code",
   "execution_count": 959,
   "metadata": {},
   "outputs": [],
   "source": [
    "jayi=careseeker(\"Jayi\")\n",
    "salvin=careseeker(\"Salvin\")\n",
    "vinodh=careseeker(\"Vinodh\")\n",
    "jaya=careseeker(\"Jaya\")\n",
    "john=careseeker(\"John\")\n",
    "jessy=careseeker(\"Jessy\")"
   ]
  },
  {
   "cell_type": "markdown",
   "metadata": {},
   "source": [
    "# Creating few jobs by careseeker"
   ]
  },
  {
   "cell_type": "code",
   "execution_count": 960,
   "metadata": {},
   "outputs": [
    {
     "name": "stdout",
     "output_type": "stream",
     "text": [
      "Job Created by Jayi is ACTIVE\n",
      "Job Created by Salvin is ACTIVE\n",
      "Job Created by Vinodh is ACTIVE\n"
     ]
    }
   ],
   "source": [
    "jayi.jobcreate(1000)\n",
    "salvin.jobcreate(500)\n",
    "vinodh.jobcreate(1500)"
   ]
  },
  {
   "cell_type": "markdown",
   "metadata": {},
   "source": [
    "# Initializing caretaker objects"
   ]
  },
  {
   "cell_type": "code",
   "execution_count": 961,
   "metadata": {},
   "outputs": [],
   "source": [
    "amal=caretaker(\"Amal\")\n",
    "ajith=caretaker(\"Ajith\")\n",
    "riya=caretaker(\"Riya\")\n",
    "rini=caretaker(\"Rini\")"
   ]
  },
  {
   "cell_type": "markdown",
   "metadata": {},
   "source": [
    "# Display list of currently available jobs"
   ]
  },
  {
   "cell_type": "code",
   "execution_count": 962,
   "metadata": {},
   "outputs": [
    {
     "name": "stdout",
     "output_type": "stream",
     "text": [
      "JOB list for Amal\n",
      "1 Jayi 1000\n",
      "2 Salvin 500\n",
      "3 Vinodh 1500\n"
     ]
    }
   ],
   "source": [
    "amal.jobview()"
   ]
  },
  {
   "cell_type": "markdown",
   "metadata": {},
   "source": [
    "# Creating few more jobs by other careseekers"
   ]
  },
  {
   "cell_type": "code",
   "execution_count": 963,
   "metadata": {},
   "outputs": [
    {
     "name": "stdout",
     "output_type": "stream",
     "text": [
      "Job Created by Jaya is ACTIVE\n",
      "Job Created by John is ACTIVE\n",
      "Job Created by Jessy is ACTIVE\n"
     ]
    }
   ],
   "source": [
    "jaya.jobcreate(2000)\n",
    "john.jobcreate(600)\n",
    "jessy.jobcreate(900)"
   ]
  },
  {
   "cell_type": "markdown",
   "metadata": {},
   "source": [
    "# Display list of currently available jobs"
   ]
  },
  {
   "cell_type": "code",
   "execution_count": 964,
   "metadata": {},
   "outputs": [
    {
     "name": "stdout",
     "output_type": "stream",
     "text": [
      "JOB list for Riya\n",
      "1 Jayi 1000\n",
      "2 Salvin 500\n",
      "3 Vinodh 1500\n",
      "4 Jaya 2000\n",
      "5 John 600\n",
      "6 Jessy 900\n",
      "JOB list for Amal\n",
      "1 Jayi 1000\n",
      "2 Salvin 500\n",
      "3 Vinodh 1500\n",
      "4 Jaya 2000\n",
      "5 John 600\n",
      "6 Jessy 900\n"
     ]
    }
   ],
   "source": [
    "riya.jobview()\n",
    "amal.jobview()"
   ]
  },
  {
   "cell_type": "markdown",
   "metadata": {},
   "source": [
    "# Caretakers applying for jobs"
   ]
  },
  {
   "cell_type": "code",
   "execution_count": 965,
   "metadata": {},
   "outputs": [
    {
     "name": "stdout",
     "output_type": "stream",
     "text": [
      "Rini Applied for Jaya\n",
      "Rini Applied for Vinodh\n",
      "Rini Applied for Jayi\n",
      "Rini Applied for Salvin\n",
      "Rini Applied for Jessy\n",
      "Amal Applied for Jessy\n",
      "Riya Applied for Jessy\n"
     ]
    }
   ],
   "source": [
    "rini.apply(4)\n",
    "rini.apply(3)\n",
    "rini.apply(1)\n",
    "rini.apply(2)\n",
    "rini.apply(6)\n",
    "amal.apply(6)\n",
    "riya.apply(6)"
   ]
  },
  {
   "cell_type": "markdown",
   "metadata": {},
   "source": [
    "# List applicants for caretakers job"
   ]
  },
  {
   "cell_type": "code",
   "execution_count": 966,
   "metadata": {},
   "outputs": [
    {
     "name": "stdout",
     "output_type": "stream",
     "text": [
      "Applicant's for Jayi's job are:\n",
      "1 Rini\n",
      "Applicant's for Vinodh's job are:\n",
      "1 Rini\n",
      "Applicant's for Jessy's job are:\n",
      "1 Rini\n",
      "2 Amal\n",
      "3 Riya\n"
     ]
    }
   ],
   "source": [
    "jayi.viewapplication()\n",
    "vinodh.viewapplication()\n",
    "jessy.viewapplication()"
   ]
  },
  {
   "cell_type": "markdown",
   "metadata": {},
   "source": [
    "# Caretakers approving the applicants and limiting 4 elders(careseeker) per caretaker"
   ]
  },
  {
   "cell_type": "code",
   "execution_count": 967,
   "metadata": {},
   "outputs": [
    {
     "name": "stdout",
     "output_type": "stream",
     "text": [
      "Jayi Accepted Rini\n",
      "Jaya Accepted Rini\n",
      "Vinodh Accepted Rini\n",
      "Salvin Accepted Rini\n",
      "Rini's Maximum Limit had Reached\n",
      "Jessy Accepted Amal\n",
      "You Cannot Accept New Applicant. You are on a contract with Amal\n"
     ]
    }
   ],
   "source": [
    "jayi.jobaccept(1)\n",
    "jaya.jobaccept(1)\n",
    "vinodh.jobaccept(1)\n",
    "salvin.jobaccept(1)\n",
    "jessy.jobaccept(1)\n",
    "jessy.jobaccept(2)\n",
    "jessy.jobaccept(3)"
   ]
  },
  {
   "cell_type": "markdown",
   "metadata": {},
   "source": [
    "# Diplay total money earned by caretaker"
   ]
  },
  {
   "cell_type": "code",
   "execution_count": 968,
   "metadata": {},
   "outputs": [
    {
     "name": "stdout",
     "output_type": "stream",
     "text": [
      "5000\n",
      "900\n"
     ]
    }
   ],
   "source": [
    "rini.salary()\n",
    "amal.salary()"
   ]
  },
  {
   "cell_type": "markdown",
   "metadata": {},
   "source": [
    "# Users reviewing each other"
   ]
  },
  {
   "cell_type": "code",
   "execution_count": 969,
   "metadata": {},
   "outputs": [
    {
     "name": "stdout",
     "output_type": "stream",
     "text": [
      "ReviewedBy: Jayi\n",
      "ReviewedAbout: Rini\n",
      "Rating: 5\n",
      "Review: Good Caretaker but not punctual\n",
      "\n",
      "ReviewedBy: Amal\n",
      "ReviewedAbout: Jessy\n",
      "Rating: 8\n",
      "Review: Nice Person\n",
      "\n"
     ]
    }
   ],
   "source": [
    "jayi.review(rini,5,\"Good Caretaker but not punctual\")\n",
    "amal.review(jessy,8,\"Nice Person\")"
   ]
  },
  {
   "cell_type": "markdown",
   "metadata": {},
   "source": [
    "# Results\n",
    "## Showing who is taking care of older couple and\n",
    "## Showing who all a young chap is currently taking care"
   ]
  },
  {
   "cell_type": "code",
   "execution_count": 970,
   "metadata": {},
   "outputs": [
    {
     "name": "stdout",
     "output_type": "stream",
     "text": [
      "Showing who is taking care of older couple:\n",
      "--------------------------------------------------\n",
      " >Rini is taking care of Jayi : (Rini,Jayi)\n",
      " >Rini is taking care of Jaya : (Rini,Jaya)\n",
      " >Rini is taking care of Vinodh : (Rini,Vinodh)\n",
      " >Rini is taking care of Salvin : (Rini,Salvin)\n",
      " >Amal is taking care of Jessy : (Amal,Jessy)\n",
      "\n",
      "Showing who all a young chap is currently taking care:\n",
      "--------------------------------------------------\n",
      " >Rini is currently taking care of ['Jayi', 'Jaya', 'Vinodh', 'Salvin']\n",
      " >Amal is currently taking care of ['Jessy']\n"
     ]
    }
   ],
   "source": [
    "Person.report()"
   ]
  }
 ],
 "metadata": {
  "kernelspec": {
   "display_name": "Python 3",
   "language": "python",
   "name": "python3"
  },
  "language_info": {
   "codemirror_mode": {
    "name": "ipython",
    "version": 3
   },
   "file_extension": ".py",
   "mimetype": "text/x-python",
   "name": "python",
   "nbconvert_exporter": "python",
   "pygments_lexer": "ipython3",
   "version": "3.7.3"
  }
 },
 "nbformat": 4,
 "nbformat_minor": 2
}
